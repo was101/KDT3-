{
 "cells": [
  {
   "cell_type": "code",
   "execution_count": 1,
   "id": "a84d065e",
   "metadata": {},
   "outputs": [],
   "source": [
    "def image_padding(src, radius):\n",
    "    height, width = src.shape\n",
    "    res = np.zeros((height+2*radius, width+2*radius), dtype='uint8')\n",
    "    \n",
    "    for i in range(width+2*radius):\n",
    "        for j in range(height+2*radius):\n",
    "            pi = i - radius\n",
    "            pj = j - radius\n",
    "            \n",
    "            if(pi >= 0 and pi < height and pj >= 0 and pj < width):\n",
    "                    res[i, j] = src[pi, pj]\n",
    "    return res"
   ]
  },
  {
   "cell_type": "code",
   "execution_count": 2,
   "id": "5ef0f182",
   "metadata": {},
   "outputs": [],
   "source": [
    "def average_filter(src, radius):\n",
    "    \n",
    "    src = src.astype(int)\n",
    "    height, width = src.shape\n",
    "    avg_blur = np.zeros((height, width), dtype='uint8')\n",
    "    \n",
    "    for i in range(radius, height-radius):\n",
    "        for j in range(radius, width-radius):\n",
    "            patch = src[i-radius:i+radius+1, j-radius:j+radius+1]\n",
    "            avg_blur[i, j] = np.mean(patch)\n",
    "            \n",
    "    return avg_blur"
   ]
  },
  {
   "cell_type": "code",
   "execution_count": 5,
   "id": "6c9648bc",
   "metadata": {},
   "outputs": [],
   "source": [
    "def mirror_padding(src, radius):\n",
    "    \n",
    "    height, width = src.shape\n",
    "    res = np.zeros((height+2*radius, width+2*radius), dtype='uint8')\n",
    "    \n",
    "    for i in range(width+2*radius):\n",
    "        for j in range(height+2*radius):\n",
    "            pi = i - radius\n",
    "            pj = j - radius\n",
    "            \n",
    "            if(pi < 0):\n",
    "                pi = 0\n",
    "            elif(pi > height-1):\n",
    "                pi = height-1\n",
    "            \n",
    "            if(pj < 0):\n",
    "                pj = 0\n",
    "            elif(pj > width-1):\n",
    "                pj = width-1\n",
    "            \n",
    "            res[i, j] = src[pi, pj]\n",
    "    return res"
   ]
  },
  {
   "cell_type": "code",
   "execution_count": 6,
   "id": "011e3789",
   "metadata": {},
   "outputs": [],
   "source": [
    "def mirror_padding(src, radius):\n",
    "    \n",
    "    height, width = src.shape\n",
    "    res = np.zeros((height+2*radius, width+2*radius), dtype='uint8')\n",
    "    \n",
    "    for i in range(height+2*radius):\n",
    "        for j in range(width+2*radius):\n",
    "            pi = i - radius\n",
    "            pj = j - radius\n",
    "            \n",
    "#             if(pi < 0):\n",
    "#                 pi = 0\n",
    "#             elif(pi > height-1):\n",
    "#                 pi = height-1\n",
    "            pi = np.clip(pi, 0, height-1)\n",
    "#             if(pj < 0):\n",
    "#                 pj = 0\n",
    "#             elif(pj > width-1):\n",
    "#                 pj = width-1\n",
    "            pj = np.clip(pj, 0, width-1)\n",
    "            \n",
    "            res[i, j] = src[pi, pj]\n",
    "    return res"
   ]
  },
  {
   "cell_type": "code",
   "execution_count": null,
   "id": "f8a0ffbe",
   "metadata": {},
   "outputs": [],
   "source": []
  }
 ],
 "metadata": {
  "kernelspec": {
   "display_name": "Python 3 (ipykernel)",
   "language": "python",
   "name": "python3"
  },
  "language_info": {
   "codemirror_mode": {
    "name": "ipython",
    "version": 3
   },
   "file_extension": ".py",
   "mimetype": "text/x-python",
   "name": "python",
   "nbconvert_exporter": "python",
   "pygments_lexer": "ipython3",
   "version": "3.10.9"
  }
 },
 "nbformat": 4,
 "nbformat_minor": 5
}
